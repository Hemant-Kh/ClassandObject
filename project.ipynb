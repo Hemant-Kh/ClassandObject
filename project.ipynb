{
 "cells": [
  {
   "cell_type": "code",
   "execution_count": 5,
   "metadata": {},
   "outputs": [],
   "source": [
    "onclick = input(str(\"Enter Your alphabet\").lower) \n",
    "\n"
   ]
  },
  {
   "cell_type": "code",
   "execution_count": 1,
   "metadata": {},
   "outputs": [],
   "source": [
    "db = {\"a\": \"apple\", \"b\": \"ball\", \"c\": \"cat\", \"d\": \"dog\", \"e\": \"elepahant\", \"f\": \"frog\", \"g\": \"god\", \"h\": \"hat\", \"i\": \"Italy\", \"j\": \"jog\",\n",
    "\"k\": \"Kangaroo\", \"l\": \"lap\", \"m\": \"mat\", \"n\": \"nostril\", \"o\": \"over\", \"p\": \"palace\", \"q\": \"query\", \"r\": \"rat\", \"s\": \"sad\", \"t\": \"tall\",\n",
    "\"u\": \"under\", \"v\": \"valteri\", \"w\": \"water\", \"x\": \"xeign\", \"y\": \"yoyo\", \"z\": \"zene\"}"
   ]
  },
  {
   "cell_type": "code",
   "execution_count": 6,
   "metadata": {},
   "outputs": [
    {
     "name": "stdout",
     "output_type": "stream",
     "text": [
      "xeign\n"
     ]
    }
   ],
   "source": [
    "if onclick == \"a\":\n",
    "    print(db[\"a\"])\n",
    "elif onclick == \"b\":\n",
    "    print(db[\"b\"])\n",
    "elif onclick == \"c\":\n",
    "    print(db[\"c\"])\n",
    "elif onclick == \"d\":\n",
    "    print(db[\"d\"])\n",
    "elif onclick == \"e\":\n",
    "    print(db[\"e\"])\n",
    "elif onclick == \"f\":\n",
    "    print(db[\"f\"])\n",
    "elif onclick == \"g\":\n",
    "    print(db[\"g\"])\n",
    "elif onclick == \"h\":\n",
    "    print(db[\"h\"])\n",
    "elif onclick == \"i\":\n",
    "    print(db[\"i\"])\n",
    "elif onclick == \"j\":\n",
    "    print(db[\"j\"])\n",
    "elif onclick == \"k\":\n",
    "    print(db[\"k\"])\n",
    "elif onclick == \"l\":\n",
    "    print(db[\"l\"])\n",
    "elif onclick == \"m\":\n",
    "    print(db[\"m\"])\n",
    "elif onclick == \"n\":\n",
    "    print(db[\"n\"])\n",
    "elif onclick == \"o\":\n",
    "    print(db[\"o\"])\n",
    "elif onclick == \"p\":\n",
    "    print(db[\"p\"])\n",
    "elif onclick == \"q\":\n",
    "    print(db[\"q\"])\n",
    "elif onclick == \"r\":\n",
    "    print(db[\"r\"])\n",
    "elif onclick == \"s\":\n",
    "    print(db[\"s\"])\n",
    "elif onclick == \"t\":\n",
    "    print(db[\"t\"])\n",
    "elif onclick == \"u\":\n",
    "    print(db[\"u\"])\n",
    "elif onclick == \"v\":\n",
    "    print(db[\"v\"])\n",
    "elif onclick == \"x\":\n",
    "    print(db[\"x\"])\n",
    "elif onclick == \"y\":\n",
    "    print(db[\"y\"])\n",
    "elif onclick == \"z\":\n",
    "    print(db[\"z\"])\n",
    "elif onclick == \"w\":\n",
    "    print(db[\"w\"])\n",
    "\n"
   ]
  },
  {
   "cell_type": "code",
   "execution_count": null,
   "metadata": {},
   "outputs": [],
   "source": []
  }
 ],
 "metadata": {
  "kernelspec": {
   "display_name": "class-env",
   "language": "python",
   "name": "python3"
  },
  "language_info": {
   "codemirror_mode": {
    "name": "ipython",
    "version": 3
   },
   "file_extension": ".py",
   "mimetype": "text/x-python",
   "name": "python",
   "nbconvert_exporter": "python",
   "pygments_lexer": "ipython3",
   "version": "3.12.4"
  }
 },
 "nbformat": 4,
 "nbformat_minor": 2
}
