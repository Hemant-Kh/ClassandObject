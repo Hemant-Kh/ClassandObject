{
 "cells": [
  {
   "cell_type": "code",
   "execution_count": 3,
   "metadata": {},
   "outputs": [],
   "source": [
    "class product:\n",
    "    def __init__(self, product_id, name, price, quantity):\n",
    "        self.product_id = product_id\n",
    "        self.name = name\n",
    "        self.price = price\n",
    "        self.quantity = quantity\n",
    "\n",
    "    def display_product(self):\n",
    "        print(f\"Id:{self.product_id}, name {self.name}, price {self.price}, quantity: {self.quantity} \")\n",
    "\n",
    "    def update_quantity(self, Quantity): #how much user has brought minus it from total stock\n",
    "        self.quantity -= Quantity\n",
    "\n",
    "class Cart:\n",
    "    def __init__(self):\n",
    "        self.items = {}\n",
    "\n",
    "    def add_to_cart(self, product, quantity):\n",
    "        if product.product_id in self.items:\n",
    "            self.item[product.product_id]['quantity']+= quantity\n",
    "        else:\n",
    "            self.items[product.product_id] = {'product': product, 'quantity' : quantity}\n",
    "\n",
    "    def display_cart(self):\n",
    "        for item in self.items.values():\n",
    "            product = item['product']\n",
    "            quantity = item['quantity']\n",
    "\n",
    "            print(f\"{product.name} - {quantity} units at {product.price} each\")\n",
    "    \n",
    "    def calculate_sum(self):\n",
    "        return sum(item['product'].price*item['quantity']for item in self.items.values())\n",
    "\n",
    "        "
   ]
  },
  {
   "cell_type": "code",
   "execution_count": 4,
   "metadata": {},
   "outputs": [],
   "source": [
    "class user:\n",
    "    def __init__(self, user_id, name, balance):\n",
    "        self.user_id = user_id\n",
    "        self.name = name\n",
    "        self.__balance = balance\n",
    "\n",
    "    def add_balance(self, amount):\n",
    "        self.__balance+= amount\n",
    "    def deduct_balance(self, amount):\n",
    "        if self.__balance>=amount:\n",
    "            self.__balance-=amount\n",
    "            return True\n",
    "        else:\n",
    "            print(\"insufficient funds\")\n",
    "            return False\n",
    "    \n",
    "    def get_balance(self):\n",
    "        return self.__balance"
   ]
  },
  {
   "cell_type": "code",
   "execution_count": 18,
   "metadata": {},
   "outputs": [],
   "source": [
    "class Order:\n",
    "    order_count = 1\n",
    "    def __init__(self, user, cart):\n",
    "        self.order_id = Order.order_count\n",
    "        Order.order_count+=1\n",
    "        self.user=user\n",
    "        self.cart = cart\n",
    "        self.total_amount = Cart.calculate_sum\n",
    "    \n",
    "    def place_order(self):\n",
    "        if self.user.deduct_balance(self.total_amount):\n",
    "            print(f\"Order #{self.order_id} placed successfully!\")\n",
    "        else:\n",
    "            print(f\"Order #{self.order_id} not placed\")\n",
    "    def display_order(self):\n",
    "        print(f\"Order ID: {self.order_id}\")\n",
    "        print(f\"User: {self.user.name}\")\n",
    "        print(f\"Total Amount: {self.total_amount}\")\n",
    "        self.cart.display_cart()\n",
    "          "
   ]
  },
  {
   "cell_type": "code",
   "execution_count": 6,
   "metadata": {},
   "outputs": [],
   "source": [
    "product1 = product(1, \"Laptop\", 50000, 10)\n",
    "product2 = product(2, \"Phone\", 20000, 20)\n",
    "product3 = product(3, \"Headphones\", 2000, 50)"
   ]
  },
  {
   "cell_type": "code",
   "execution_count": 7,
   "metadata": {},
   "outputs": [
    {
     "name": "stdout",
     "output_type": "stream",
     "text": [
      "Available Products:\n",
      "Id:1, name Laptop, price 50000, quantity: 10 \n",
      "Id:2, name Phone, price 20000, quantity: 20 \n",
      "Id:3, name Headphones, price 2000, quantity: 50 \n"
     ]
    }
   ],
   "source": [
    "print(\"Available Products:\")\n",
    "product1.display_product()\n",
    "product2.display_product()\n",
    "product3.display_product()"
   ]
  },
  {
   "cell_type": "code",
   "execution_count": 10,
   "metadata": {},
   "outputs": [],
   "source": [
    "\n",
    "cart = Cart()\n",
    "cart.add_to_cart(product1, 1)  # Add Laptop to cart\n",
    "cart.add_to_cart(product3, 2)  # Add Headphones to cart"
   ]
  },
  {
   "cell_type": "code",
   "execution_count": 11,
   "metadata": {},
   "outputs": [
    {
     "name": "stdout",
     "output_type": "stream",
     "text": [
      "Laptop - 1 units at 50000 each\n",
      "Headphones - 2 units at 2000 each\n"
     ]
    }
   ],
   "source": [
    "cart.display_cart()"
   ]
  },
  {
   "cell_type": "code",
   "execution_count": 19,
   "metadata": {},
   "outputs": [],
   "source": [
    "order = Order(user, Cart)\n"
   ]
  }
 ],
 "metadata": {
  "kernelspec": {
   "display_name": "class-env",
   "language": "python",
   "name": "python3"
  },
  "language_info": {
   "codemirror_mode": {
    "name": "ipython",
    "version": 3
   },
   "file_extension": ".py",
   "mimetype": "text/x-python",
   "name": "python",
   "nbconvert_exporter": "python",
   "pygments_lexer": "ipython3",
   "version": "3.12.4"
  }
 },
 "nbformat": 4,
 "nbformat_minor": 2
}
