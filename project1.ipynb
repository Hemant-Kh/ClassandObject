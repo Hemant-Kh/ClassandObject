{
 "cells": [
  {
   "cell_type": "code",
   "execution_count": 3,
   "metadata": {},
   "outputs": [],
   "source": [
    "class product:\n",
    "    def __init__(self, product_id, name, price, quantity):\n",
    "        self.product_id = product_id\n",
    "        self.name = name\n",
    "        self.price = price\n",
    "        self.quantity = quantity\n",
    "\n",
    "    def display_product(self):\n",
    "        print(f\"Id:{self.product_id}, name {self.name}, price {self.price}, quantity: {self.quantity} \")\n",
    "\n",
    "    def update_quantity(self, Quantity): #how much user has brought minus it from total stock\n",
    "        self.quantity -= Quantity\n",
    "\n",
    "class Cart:\n",
    "    def __init__(self):\n",
    "        self.items = {}\n",
    "\n",
    "    def add_to_cart(self, product, quantity):\n",
    "        if product.product_id in self.items:\n",
    "            self.item[product.product_id]['quantity']+= quantity\n",
    "        else:\n",
    "            self.items[product.product_id] = {'product': product, 'quantity' : quantity}\n",
    "\n",
    "    def display_cart(self):\n",
    "        for item in self.items.values():\n",
    "            product = item['product']\n",
    "            quantity = item['quantity']\n",
    "\n",
    "            print(f\"{product.name} - {quantity} units at {product.price} each\")\n",
    "    \n",
    "    def calculate_sum(self):\n",
    "        return sum(item['product'].price*item['quantity']for item in self.items.values())\n",
    "\n",
    "        "
   ]
  },
  {
   "cell_type": "code",
   "execution_count": 4,
   "metadata": {},
   "outputs": [],
   "source": [
    "class user:\n",
    "    def __init__(self, user_id, name, balance):\n",
    "        self.user_id = user_id\n",
    "        self.name = name\n",
    "        self.__balance = balance\n",
    "\n",
    "    def add_balance(self, amount):\n",
    "        self.__balance+= amount\n",
    "    def deduct_balance(self, amount):\n",
    "        if self.__balance>=amount:\n",
    "            self.__balance-=amount\n",
    "            return True\n",
    "        else:\n",
    "            print(\"insufficient funds\")\n",
    "            return False\n",
    "    \n",
    "    def get_balance(self):\n",
    "        return self.__balance"
   ]
  },
  {
   "cell_type": "code",
   "execution_count": null,
   "metadata": {},
   "outputs": [],
   "source": []
  }
 ],
 "metadata": {
  "kernelspec": {
   "display_name": "class-env",
   "language": "python",
   "name": "python3"
  },
  "language_info": {
   "codemirror_mode": {
    "name": "ipython",
    "version": 3
   },
   "file_extension": ".py",
   "mimetype": "text/x-python",
   "name": "python",
   "nbconvert_exporter": "python",
   "pygments_lexer": "ipython3",
   "version": "3.12.4"
  }
 },
 "nbformat": 4,
 "nbformat_minor": 2
}
