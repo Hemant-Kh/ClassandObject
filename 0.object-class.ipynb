{
 "cells": [
  {
   "cell_type": "code",
   "execution_count": 1,
   "metadata": {},
   "outputs": [
    {
     "name": "stdout",
     "output_type": "stream",
     "text": [
      "Hello world\n"
     ]
    }
   ],
   "source": [
    "print(\"Hello world\")"
   ]
  },
  {
   "cell_type": "code",
   "execution_count": 2,
   "metadata": {},
   "outputs": [],
   "source": [
    "class CarPark:\n",
    "    def __init__(self,make,model,year):\n",
    "        self.make = make\n",
    "        self.model = model\n",
    "        self.year = year\n",
    "\n",
    "    def start_engine(self):\n",
    "        print(f\"{self.year} {self.make} {self.model} ' s engine started!\")"
   ]
  },
  {
   "cell_type": "code",
   "execution_count": 3,
   "metadata": {},
   "outputs": [],
   "source": [
    "car1 = CarPark(\"Toyoto\", \"Camery\", 2020)"
   ]
  },
  {
   "cell_type": "code",
   "execution_count": 5,
   "metadata": {},
   "outputs": [
    {
     "name": "stdout",
     "output_type": "stream",
     "text": [
      "2020 Toyoto Camery ' s engine started!\n"
     ]
    }
   ],
   "source": [
    "car1.start_engine()"
   ]
  },
  {
   "cell_type": "markdown",
   "metadata": {},
   "source": [
    "Create a class Student with attributes name and roll_number. Add a method display to print the student's details.Write a class Book with attributes title, author, and price. Add methods to display the details of the book and update the price"
   ]
  },
  {
   "cell_type": "markdown",
   "metadata": {},
   "source": []
  },
  {
   "cell_type": "code",
   "execution_count": null,
   "metadata": {},
   "outputs": [],
   "source": [
    "class Student:\n",
    "    def __init__(self, name, roll_number):\n",
    "        self.name = name\n",
    "        self.roll_number = roll_number\n",
    "    def display_details(self):\n",
    "        print(f\"{self.name} ,{self.roll_number}\")\n",
    "    "
   ]
  },
  {
   "cell_type": "code",
   "execution_count": 7,
   "metadata": {},
   "outputs": [],
   "source": [
    "student1 = Student(\"Hemant\", 483)"
   ]
  },
  {
   "cell_type": "code",
   "execution_count": 9,
   "metadata": {},
   "outputs": [
    {
     "name": "stdout",
     "output_type": "stream",
     "text": [
      "Hemant 483\n"
     ]
    }
   ],
   "source": [
    "student1.display_details()"
   ]
  },
  {
   "cell_type": "code",
   "execution_count": 10,
   "metadata": {},
   "outputs": [],
   "source": [
    "class example:\n",
    "    def __init__(self):\n",
    "        self.bank_name = \"HDFC\"\n",
    "        self._account_number = \"12345\"\n",
    "        self.__pin_number = \"0000\"\n",
    "    \n",
    "    def get_access(self):\n",
    "        return self.__pin_number\n",
    "    "
   ]
  },
  {
   "cell_type": "code",
   "execution_count": null,
   "metadata": {},
   "outputs": [],
   "source": []
  },
  {
   "cell_type": "code",
   "execution_count": 12,
   "metadata": {},
   "outputs": [],
   "source": [
    "obj1 = example()"
   ]
  },
  {
   "cell_type": "code",
   "execution_count": null,
   "metadata": {},
   "outputs": [
    {
     "data": {
      "text/plain": [
       "'0000'"
      ]
     },
     "execution_count": 13,
     "metadata": {},
     "output_type": "execute_result"
    }
   ],
   "source": [
    "obj1.get_access()"
   ]
  },
  {
   "cell_type": "code",
   "execution_count": null,
   "metadata": {},
   "outputs": [],
   "source": [
    "class example:\n",
    "    def __init__(self):\n",
    "        self.bank_name = \"HDFC\"\n",
    "        self._account_number = \"12345\"\n",
    "        self.__pin_number = \"0000\"\n",
    "    \n",
    "    def get_access(self): #getter method\n",
    "        return self.__pin_number\n",
    "    \n",
    "    def set_private_attribute(self, pin_number): #setter method sets the new method by asking user from parameter\n",
    "         self.__pin_number == pin_number"
   ]
  },
  {
   "cell_type": "markdown",
   "metadata": {},
   "source": [
    "Create a class BankAccount with attributes account_number and balance. Make the balance attribute private and add methods to deposit and withdraw money.Write a class Employee with a private attribute salary. Add methods to set and get the salary."
   ]
  },
  {
   "cell_type": "code",
   "execution_count": 16,
   "metadata": {},
   "outputs": [],
   "source": [
    "class BankAccount:\n",
    "    def __init__(self, account_number, balance):\n",
    "        self.account_number = account_number\n",
    "        self.__balance = balance\n",
    "    \n",
    "    def deposit(self, amt):\n",
    "        self.__balance = amt + self.__balance\n",
    "        print(\"new balance is: \", self.__balance)\n",
    "\n",
    "    def withdraw (self, wdr):\n",
    "        self.__balance = wdr + self.__balance\n",
    "        print(\"new balance is: \", self.__balance)\n",
    "    \n"
   ]
  },
  {
   "cell_type": "code",
   "execution_count": 18,
   "metadata": {},
   "outputs": [],
   "source": [
    "acccount1 = BankAccount(12345, 1200)\n",
    "\n"
   ]
  },
  {
   "cell_type": "code",
   "execution_count": 20,
   "metadata": {},
   "outputs": [
    {
     "name": "stdout",
     "output_type": "stream",
     "text": [
      "new balance is:  3200\n"
     ]
    }
   ],
   "source": [
    "acccount1.deposit(1000)"
   ]
  },
  {
   "cell_type": "code",
   "execution_count": 22,
   "metadata": {},
   "outputs": [],
   "source": [
    "class book:\n",
    "    def __init__(self, name, book_no):\n",
    "        self.name = name\n",
    "        self.__book_no = book_no\n",
    "\n",
    "    def getter (self):\n",
    "        return self.__book_no\n",
    "    def setter(self, new_thing):\n",
    "        self.__book_no = new_thing\n"
   ]
  },
  {
   "cell_type": "code",
   "execution_count": 23,
   "metadata": {},
   "outputs": [],
   "source": [
    "book1 = book(\"Harry Potter\", 40)"
   ]
  },
  {
   "cell_type": "code",
   "execution_count": 24,
   "metadata": {},
   "outputs": [],
   "source": [
    "book1.setter(50)"
   ]
  },
  {
   "cell_type": "code",
   "execution_count": 25,
   "metadata": {},
   "outputs": [
    {
     "data": {
      "text/plain": [
       "50"
      ]
     },
     "execution_count": 25,
     "metadata": {},
     "output_type": "execute_result"
    }
   ],
   "source": [
    "book1.getter()"
   ]
  }
 ],
 "metadata": {
  "kernelspec": {
   "display_name": "class-env",
   "language": "python",
   "name": "python3"
  },
  "language_info": {
   "codemirror_mode": {
    "name": "ipython",
    "version": 3
   },
   "file_extension": ".py",
   "mimetype": "text/x-python",
   "name": "python",
   "nbconvert_exporter": "python",
   "pygments_lexer": "ipython3",
   "version": "3.12.4"
  }
 },
 "nbformat": 4,
 "nbformat_minor": 2
}
