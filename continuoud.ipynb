{
 "cells": [
  {
   "cell_type": "code",
   "execution_count": null,
   "metadata": {},
   "outputs": [],
   "source": []
  },
  {
   "cell_type": "code",
   "execution_count": null,
   "metadata": {},
   "outputs": [],
   "source": [
    "from abc import ABC, abstractmethod\n",
    "\n"
   ]
  },
  {
   "cell_type": "code",
   "execution_count": null,
   "metadata": {},
   "outputs": [],
   "source": [
    "class Patient(ABC):\n",
    "    @abstractmethod\n",
    "    def get_details(self):\n",
    "        pass\n",
    "\n",
    "class InPatient(Patient):\n",
    "    def __init__(self, name, r_no):\n",
    "        self.name = name\n",
    "        self.r_no = r_no\n",
    "    def get_details(self):\n",
    "        return f\"In-Patient: {self.name}, Room: {self.r_no}\"\n",
    "    \n",
    "class out_patient(Patient):\n",
    "    def __init__(self, name, a_time):\n",
    "        self.name = name\n",
    "        self.a_time = a_time\n",
    "    def"
   ]
  },
  {
   "cell_type": "code",
   "execution_count": 2,
   "metadata": {},
   "outputs": [],
   "source": [
    "class Utility:\n",
    "    @staticmethod\n",
    "    def is_even(number):\n",
    "        return number%2==0\n",
    "    \n",
    "    def something (self, number):\n",
    "        result = Utility.is_even(number)\n",
    "        return result"
   ]
  },
  {
   "cell_type": "code",
   "execution_count": null,
   "metadata": {},
   "outputs": [],
   "source": []
  },
  {
   "cell_type": "code",
   "execution_count": 3,
   "metadata": {},
   "outputs": [],
   "source": [
    "class Counter:\n",
    "    count = 0\n",
    "    def __init__(self):\n",
    "        Counter.count = Counter.count + 1 \n",
    "\n",
    "    @classmethod\n",
    "    def get_count(cls):\n",
    "        return f\"Count: = {cls.count}\""
   ]
  },
  {
   "cell_type": "code",
   "execution_count": 14,
   "metadata": {},
   "outputs": [],
   "source": [
    "from datetime import datetime\n",
    "\n",
    "class LogManager:\n",
    "    def __init__(self, logfile):\n",
    "        self.logfile = logfile\n",
    "    def log_message (self,mes, level = \"INFO\"):\n",
    "        timestamp = datetime.now().strftime(\"%Y-%m-%d %H:%M:%S\")\n",
    "        with open(self.logfile, 'a') as file:\n",
    "            file.write(f\"[{timestamp}]{level}:{mes}\")\n",
    "            return \"log entry added\"\n",
    "    def display(self):\n",
    "        with open(self.logfile, 'r') as file:\n",
    "            return file\n",
    "    #\n",
    "            \n"
   ]
  },
  {
   "cell_type": "code",
   "execution_count": null,
   "metadata": {},
   "outputs": [],
   "source": []
  },
  {
   "cell_type": "code",
   "execution_count": 9,
   "metadata": {},
   "outputs": [],
   "source": [
    "log1 = LogManager('It is this')"
   ]
  },
  {
   "cell_type": "code",
   "execution_count": 10,
   "metadata": {},
   "outputs": [
    {
     "data": {
      "text/plain": [
       "'log entry added'"
      ]
     },
     "execution_count": 10,
     "metadata": {},
     "output_type": "execute_result"
    }
   ],
   "source": [
    "log1.log_message('I have added things')"
   ]
  },
  {
   "cell_type": "code",
   "execution_count": 17,
   "metadata": {},
   "outputs": [
    {
     "data": {
      "text/plain": [
       "<bound method LogManager.display of <__main__.LogManager object at 0x106143f20>>"
      ]
     },
     "execution_count": 17,
     "metadata": {},
     "output_type": "execute_result"
    }
   ],
   "source": [
    "log1.display"
   ]
  }
 ],
 "metadata": {
  "kernelspec": {
   "display_name": "class-env",
   "language": "python",
   "name": "python3"
  },
  "language_info": {
   "codemirror_mode": {
    "name": "ipython",
    "version": 3
   },
   "file_extension": ".py",
   "mimetype": "text/x-python",
   "name": "python",
   "nbconvert_exporter": "python",
   "pygments_lexer": "ipython3",
   "version": "3.12.4"
  }
 },
 "nbformat": 4,
 "nbformat_minor": 2
}
