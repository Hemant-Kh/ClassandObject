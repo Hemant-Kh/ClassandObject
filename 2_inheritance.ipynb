{
 "cells": [
  {
   "cell_type": "code",
   "execution_count": null,
   "metadata": {},
   "outputs": [],
   "source": [
    "class Parent: #inheritance concept\n",
    "    def __init__(self):\n",
    "        self.test = 0\n",
    "    def greet(self):\n",
    "        print(\"Hello from parent\")\n",
    "class Child(Parent):\n",
    "    def child(self):\n",
    "        print(\"Hello from Child\")"
   ]
  },
  {
   "cell_type": "code",
   "execution_count": 4,
   "metadata": {},
   "outputs": [
    {
     "name": "stdout",
     "output_type": "stream",
     "text": [
      "Hello from parent\n"
     ]
    }
   ],
   "source": [
    "obj1 = Child()\n",
    "obj1.greet()"
   ]
  },
  {
   "cell_type": "code",
   "execution_count": null,
   "metadata": {},
   "outputs": [],
   "source": [
    "class Parent: #super concept\n",
    "    def __init__(self):\n",
    "        self.test = test\n",
    "    def greet(self):\n",
    "        print(\"Hello from parent\")\n",
    "class Child(Parent):\n",
    "    def __init__(self,name,age):\n",
    "        super().__init__(name)\n",
    "        self.age = age #this is associated with child class only\n",
    "\n",
    "    def child(self):\n",
    "        print(\"Hello from Child\")"
   ]
  },
  {
   "cell_type": "markdown",
   "metadata": {},
   "source": [
    "Create a class Animal with a method speak. Create a subclass Dog that overrides the speak method to say \"Bark\"."
   ]
  },
  {
   "cell_type": "code",
   "execution_count": 5,
   "metadata": {},
   "outputs": [],
   "source": [
    "class Animal:\n",
    "    def speak(self):\n",
    "        print(\"Hello \")\n",
    "    \n",
    "class Dog(Animal):\n",
    "    def f1 (self):\n",
    "        print(\"Bark\")"
   ]
  },
  {
   "cell_type": "code",
   "execution_count": 7,
   "metadata": {},
   "outputs": [
    {
     "name": "stdout",
     "output_type": "stream",
     "text": [
      "Hello \n"
     ]
    }
   ],
   "source": [
    "obj1 = Dog()\n",
    "obj1.speak()"
   ]
  },
  {
   "cell_type": "code",
   "execution_count": 9,
   "metadata": {},
   "outputs": [
    {
     "data": {
      "text/plain": [
       "12"
      ]
     },
     "execution_count": 9,
     "metadata": {},
     "output_type": "execute_result"
    }
   ],
   "source": [
    "# method overloading\n",
    "\n",
    "class mth:\n",
    "    def add(self, a, b, c=0):\n",
    "        return a+b+c\n",
    "\n",
    "obj1 = mth()\n",
    "obj1.add(4,2)\n",
    "obj1.add(4,2,6)\n"
   ]
  },
  {
   "cell_type": "code",
   "execution_count": 10,
   "metadata": {},
   "outputs": [],
   "source": [
    "class Parent:\n",
    "    def overide(self):\n",
    "        print(\"Adaddd\")\n",
    "    def calculation(self):\n",
    "        return 0.2\n",
    "\n",
    "class student(Parent):\n",
    "    def overide(self):\n",
    "        print(\"This overides the parent function\")\n",
    "    def calculation(self, salary):\n",
    "        total_Salary = salary\n",
    "        return total_Salary\n",
    "    \n"
   ]
  },
  {
   "cell_type": "code",
   "execution_count": 15,
   "metadata": {},
   "outputs": [],
   "source": [
    "class shape:\n",
    "    def area(self):\n",
    "        pass\n",
    "\n",
    "class circle(shape):\n",
    "    def __init__(self, radius):\n",
    "        super().__init__()\n",
    "        self.radius = radius\n",
    "\n",
    "    def area(self):\n",
    "        return 3.14*self.radius*self.radius\n",
    "    \n",
    "class rectangle(shape):\n",
    "    def __init__(self, base, height):\n",
    "        super().__init__()\n",
    "        self.base = base\n",
    "        self.height = height\n",
    "\n",
    "    def area(self):\n",
    "        return self.base*self.height\n",
    "\n",
    " \n"
   ]
  },
  {
   "cell_type": "code",
   "execution_count": 16,
   "metadata": {},
   "outputs": [
    {
     "name": "stdout",
     "output_type": "stream",
     "text": [
      "Area:  113.03999999999999\n",
      "Area:  8\n"
     ]
    }
   ],
   "source": [
    "shapes = [ circle(6), rectangle(2,4) ]\n",
    "\n",
    "for shape in shapes:\n",
    "    print(\"Area: \" ,shape.area() )"
   ]
  },
  {
   "cell_type": "code",
   "execution_count": 17,
   "metadata": {},
   "outputs": [
    {
     "name": "stdout",
     "output_type": "stream",
     "text": [
      "Area: 15.700000000000001\n",
      "Area: 24\n"
     ]
    }
   ],
   "source": [
    "class Shape:\n",
    "\n",
    "    def area(self):\n",
    "\n",
    "        pass\n",
    "\n",
    "class Circle(Shape):\n",
    "\n",
    "    def __init__(self,radius):\n",
    "\n",
    "        super().__init__()\n",
    "\n",
    "        self.radius=radius\n",
    "\n",
    "    def area(self):\n",
    "\n",
    "        return 3.14*self.radius\n",
    "\n",
    " \n",
    "\n",
    "class Rectangle(Shape):\n",
    "\n",
    "    def __init__(self, length, breadth):\n",
    "\n",
    "        self.length = length\n",
    "\n",
    "        self.breadth = breadth\n",
    "\n",
    "    def area(self):\n",
    "\n",
    "        return self.length * self.breadth\n",
    "\n",
    "    \n",
    "\n",
    "shapes = [Circle(5), Rectangle(4, 6)]\n",
    "\n",
    "for shape in shapes:\n",
    "\n",
    "    print(\"Area:\", shape.area())"
   ]
  },
  {
   "cell_type": "code",
   "execution_count": 21,
   "metadata": {},
   "outputs": [
    {
     "name": "stdout",
     "output_type": "stream",
     "text": [
      "True\n",
      "False\n"
     ]
    }
   ],
   "source": [
    "child = Child()\n",
    "\n",
    "print(isinstance(child,Child))\n",
    "print(issubclass(Parent, Child))"
   ]
  }
 ],
 "metadata": {
  "kernelspec": {
   "display_name": "class-env",
   "language": "python",
   "name": "python3"
  },
  "language_info": {
   "codemirror_mode": {
    "name": "ipython",
    "version": 3
   },
   "file_extension": ".py",
   "mimetype": "text/x-python",
   "name": "python",
   "nbconvert_exporter": "python",
   "pygments_lexer": "ipython3",
   "version": "3.12.4"
  }
 },
 "nbformat": 4,
 "nbformat_minor": 2
}
