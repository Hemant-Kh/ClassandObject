{
 "cells": [
  {
   "cell_type": "code",
   "execution_count": 1,
   "metadata": {},
   "outputs": [],
   "source": [
    "class Parent:\n",
    "    def __init__(self, name):\n",
    "        self.name = name\n",
    "\n",
    "    def greet(self):\n",
    "        print(f\"Hello, I am {self.name} from parent! \")\n",
    "\n",
    "class Child(Parent):\n",
    "    def __init__(self, name, age):\n",
    "        super().__init__(name)  # Call Parent's __init__\n",
    "        self.age = age\n",
    "    def greet(self):\n",
    "        super().greet()   # Call Parent's greet\n",
    "        print(f\"I am {self.age} years old from child\")"
   ]
  },
  {
   "cell_type": "code",
   "execution_count": 2,
   "metadata": {},
   "outputs": [
    {
     "name": "stdout",
     "output_type": "stream",
     "text": [
      "Hello, I am Hemant from parent! \n",
      "I am 16 years old from child\n"
     ]
    }
   ],
   "source": [
    "child = Child(\"Hemant\", 16)\n",
    "child.greet()"
   ]
  },
  {
   "cell_type": "code",
   "execution_count": 3,
   "metadata": {},
   "outputs": [],
   "source": [
    "# Book Management \n",
    "\n",
    "\n",
    "class Library:\n",
    "    def __init__(self, name, quantity, price, book_id):\n",
    "        self.name = name\n",
    "        self.quantity = quantity\n",
    "        self.price = price\n",
    "        self.book_id = book_id\n",
    "\n",
    "    def display_book(self):\n",
    "        print(f\"name, {self.name} quantity, {self.quantity} price, {self.price} book_id, {self.book_id}\")\n",
    "    \n",
    "    def update_quantity(self, quant):\n",
    "        self.quantity = self.quantity - quant\n",
    "\n",
    "\n",
    "class Cart:\n",
    "    def __init__(self):\n",
    "        self.items = {}\n",
    "\n",
    "    def add_to_cart (self, quantity, Library):\n",
    "        if Library.book_id in self.items:\n",
    "            self.items[Library.book_id]['quantity'] += quantity    #the self.items[Library.book_id] is locating the index number in the dictionary\n",
    "        else:\n",
    "            self.items[Library.book_id] = {'product': Library, 'quantity': quantity}    #stores information in this format in the dictionary\n",
    "    \n",
    "    def display_cart(self):\n",
    "        for item in self.items.values(): #check what values are\n",
    "            Library = item['product']\n",
    "            quantity = item['quantity']\n",
    "\n",
    "            print(f\"{Library.name} - {quantity} units at {Library.price} each\")    #check what this is\n",
    "\n",
    "    def calculate_sum(self):\n",
    "        return sum(item['product'].price*item['quantity']for item in self.items.values())\n",
    "    \n",
    "\n",
    "class User:\n",
    "    def __init__(self, user_id, name, balance):\n",
    "        self.user_id = user_id\n",
    "        self.name = name\n",
    "        self.__balance = balance\n",
    "\n",
    "    def add_balance(self, amount):\n",
    "        self.__balance+= amount\n",
    "    def deduct_balance(self, amount):\n",
    "        if self.__balance>=amount:\n",
    "            self.__balance-=amount\n",
    "            return True\n",
    "        else:\n",
    "            print(\"insufficient funds\")\n",
    "            return False\n",
    "    \n",
    "    def get_balance(self):\n",
    "        return self.__balance\n",
    "    \n",
    "class Order:\n",
    "    order_count = 1\n",
    "    def __init__(self, user, cart):\n",
    "        self.order_id = Order.order_count\n",
    "        Order.order_count+=1\n",
    "        self.user=user\n",
    "        self.cart = cart\n",
    "        self.total_amount = Cart.calculate_sum\n",
    "    \n",
    "    def place_order(self):\n",
    "        if self.user.deduct_balance(self.total_amount):\n",
    "            print(f\"Order #{self.order_id} placed successfully!\")\n",
    "        else:\n",
    "            print(f\"Order #{self.order_id} not placed\")\n",
    "    def display_order(self):\n",
    "        print(f\"Order ID: {self.order_id}\")\n",
    "        print(f\"User: {self.user.name}\")\n",
    "        print(f\"Total Amount: {self.total_amount}\")\n",
    "        self.cart.display_cart()\n",
    "\n",
    "\n",
    "    \n",
    "\n",
    "\n",
    "\n",
    "\n",
    "\n",
    "\n",
    "\n",
    "\n",
    "\n"
   ]
  },
  {
   "cell_type": "code",
   "execution_count": null,
   "metadata": {},
   "outputs": [],
   "source": []
  }
 ],
 "metadata": {
  "kernelspec": {
   "display_name": "class-env",
   "language": "python",
   "name": "python3"
  },
  "language_info": {
   "codemirror_mode": {
    "name": "ipython",
    "version": 3
   },
   "file_extension": ".py",
   "mimetype": "text/x-python",
   "name": "python",
   "nbconvert_exporter": "python",
   "pygments_lexer": "ipython3",
   "version": "3.12.4"
  }
 },
 "nbformat": 4,
 "nbformat_minor": 2
}
